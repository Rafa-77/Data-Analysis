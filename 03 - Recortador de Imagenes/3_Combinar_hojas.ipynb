{
 "cells": [
  {
   "cell_type": "code",
   "execution_count": 1,
   "metadata": {},
   "outputs": [
    {
     "name": "stdout",
     "output_type": "stream",
     "text": [
      "D:/alex_/Documents/Programacion/Bases de datos/Loteria Nacional/Mayor/mayor3916/mayor3916_join_file.xlsx\n",
      "      Unnamed: 0  NUMEROS ·PREMIOS NUMEROS   ·PREMIOS Unnamed: 1\n",
      "0              0          CENTENAS                NaN        NaN\n",
      "1              1  00012 . 3,000.00                NaN        NaN\n",
      "2              2  00028  11,200.00                NaN        NaN\n",
      "3              3  00073 . 3,000.00                NaN        NaN\n",
      "4              4  00080 . 3,000.00                NaN        NaN\n",
      "...          ...               ...                ...        ...\n",
      "1497          90  59633 . 3,000.00                NaN        NaN\n",
      "1498          91  59728 t 1,200.00                NaN        NaN\n",
      "1499          92  59744 . 3,000.00                NaN        NaN\n",
      "1500          93  59828 t 2,000.00                NaN        NaN\n",
      "1501          94  59928 t 1,200.00                NaN        NaN\n",
      "\n",
      "[1502 rows x 4 columns]\n"
     ]
    }
   ],
   "source": [
    "# import pandas as pd\n",
    "\n",
    "# def combinar_hojas_excel(ruta_excel):\n",
    "#     # Leer todas las hojas del archivo Excel\n",
    "#     xls = pd.ExcelFile(ruta_excel)\n",
    "    \n",
    "#     # Inicializar un DataFrame vacío para almacenar los datos combinados\n",
    "#     datos_combinados = pd.DataFrame()\n",
    "\n",
    "#     # Iterar sobre cada hoja y concatenar los datos verticalmente\n",
    "#     for nombre_hoja in xls.sheet_names:\n",
    "#         datos_hoja = pd.read_excel(xls, nombre_hoja)\n",
    "#         datos_combinados = pd.concat([datos_combinados, datos_hoja], ignore_index=True)\n",
    "#     print(datos_combinados)\n",
    "#     # Escribir los datos combinados en una nueva hoja\n",
    "#     with pd.ExcelWriter('hoja_combinada.xlsx', engine='xlsxwriter') as writer:\n",
    "#         datos_combinados.to_excel(writer, sheet_name='Hoja_Combinada', index=False)\n",
    "\n",
    "\n",
    "\n",
    "\n",
    "# # Ejemplo de uso\n",
    "# route = \"D:/alex_/Documents/Programacion/Bases de datos/Loteria Nacional/Mayor/\"\n",
    "# carpeta = 'mayor3916'  # Reemplaza con la ruta de tu carpeta\n",
    "# ruta_carpeta = route + carpeta\n",
    "# archivo = f\"{carpeta}_join_file.xlsx\"\n",
    "# ruta_archivo = f\"{ruta_carpeta}/{archivo}\"\n",
    "# print(ruta_archivo)\n",
    "# # archivo_destino = f\"./{ruta}/{ruta}_join_file.xlsx\" # Reemplaza con la ruta deseada para el nuevo archivo\n",
    "\n",
    "# # Reemplaza 'ruta_del_archivo.xlsx' con la ruta real de tu archivo Excel\n",
    "# combinar_hojas_excel(ruta_archivo)"
   ]
  },
  {
   "cell_type": "code",
   "execution_count": 2,
   "metadata": {},
   "outputs": [
    {
     "name": "stdout",
     "output_type": "stream",
     "text": [
      "D:/alex_/Documents/Programacion/Bases de datos/Loteria Nacional/Mayor/mayor3916/mayor3916_join_file.xlsx\n"
     ]
    },
    {
     "name": "stderr",
     "output_type": "stream",
     "text": [
      "C:\\Users\\alex_\\AppData\\Local\\Temp\\ipykernel_7512\\2407591307.py:21: FutureWarning: Setting the `book` attribute is not part of the public API, usage can give unexpected or corrupted results and will be removed in a future version\n",
      "  writer.book = libro_existente\n"
     ]
    }
   ],
   "source": [
    "import pandas as pd\n",
    "from openpyxl import load_workbook\n",
    "\n",
    "def combinar_hojas_excel(ruta_excel):\n",
    "    # Leer todas las hojas del archivo Excel\n",
    "    xls = pd.ExcelFile(ruta_excel)\n",
    "\n",
    "    # Inicializar un DataFrame vacío para almacenar los datos combinados\n",
    "    datos_combinados = pd.DataFrame()\n",
    "\n",
    "    # Iterar sobre cada hoja y concatenar los datos verticalmente\n",
    "    for nombre_hoja in xls.sheet_names:\n",
    "        datos_hoja = pd.read_excel(xls, nombre_hoja)\n",
    "        datos_combinados = pd.concat([datos_combinados, datos_hoja], ignore_index=True)\n",
    "\n",
    "    # Cargar el libro de trabajo existente\n",
    "    libro_existente = load_workbook(ruta_excel)\n",
    "\n",
    "    # Crear una nueva hoja en el libro de trabajo existente\n",
    "    with pd.ExcelWriter(ruta_excel, engine='openpyxl') as writer:\n",
    "        writer.book = libro_existente\n",
    "        datos_combinados.to_excel(writer, sheet_name='Hoja_Combinada', index=False)\n",
    "\n",
    "# Reemplaza 'ruta_del_archivo.xlsx' con la ruta real de tu archivo Excel\n",
    "# Ejemplo de uso\n",
    "route = \"D:/alex_/Documents/Programacion/Bases de datos/Loteria Nacional/Mayor/\"\n",
    "carpeta = 'mayor3916'  # Reemplaza con la ruta de tu carpeta\n",
    "ruta_carpeta = route + carpeta\n",
    "archivo = f\"{carpeta}_join_file.xlsx\"\n",
    "ruta_archivo = f\"{ruta_carpeta}/{archivo}\"\n",
    "print(ruta_archivo)\n",
    "\n",
    "combinar_hojas_excel(ruta_archivo)\n"
   ]
  },
  {
   "cell_type": "code",
   "execution_count": null,
   "metadata": {},
   "outputs": [],
   "source": []
  }
 ],
 "metadata": {
  "kernelspec": {
   "display_name": "base",
   "language": "python",
   "name": "python3"
  },
  "language_info": {
   "codemirror_mode": {
    "name": "ipython",
    "version": 3
   },
   "file_extension": ".py",
   "mimetype": "text/x-python",
   "name": "python",
   "nbconvert_exporter": "python",
   "pygments_lexer": "ipython3",
   "version": "3.8.18"
  }
 },
 "nbformat": 4,
 "nbformat_minor": 2
}
