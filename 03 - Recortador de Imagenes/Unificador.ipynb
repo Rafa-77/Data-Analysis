{
 "cells": [
  {
   "cell_type": "code",
   "execution_count": 41,
   "metadata": {},
   "outputs": [],
   "source": [
    "import os\n",
    "import pandas as pd\n",
    "\n",
    "def combinar_archivos_xlsx(carpeta_origen, archivo_destino):\n",
    "    # Diccionario para almacenar los DataFrames de cada archivo\n",
    "    dfs = {}\n",
    "\n",
    "    # Recorre todos los archivos en la carpeta de origen\n",
    "    for archivo in os.listdir(carpeta_origen):\n",
    "        if archivo.endswith(\".xlsx\"):\n",
    "            ruta_completa = os.path.join(carpeta_origen, archivo)\n",
    "\n",
    "            # Lee el archivo Excel y agrega el DataFrame al diccionario\n",
    "            df = pd.read_excel(ruta_completa, sheet_name=None, engine='openpyxl')\n",
    "            for sheet_name, sheet_data in df.items():\n",
    "                # key = f\"{os.path.splitext(archivo)[0]}_{sheet_name}\"\n",
    "                key = f\"{os.path.splitext(archivo)[0]}\"\n",
    "                dfs[key] = sheet_data\n",
    "\n",
    "    # Guarda el diccionario de DataFrames en un nuevo archivo Excel\n",
    "    with pd.ExcelWriter(archivo_destino, engine='openpyxl') as writer:\n",
    "        for key, df in dfs.items():\n",
    "            df.to_excel(writer, sheet_name=key)\n",
    "\n",
    "# Ejemplo de uso\n",
    "route = \"D:/alex_/Documents/Programacion/Bases de datos/Loteria Nacional/Mayor/\"\n",
    "ruta = 'mayor3869'  # Reemplaza con la ruta de tu carpeta\n",
    "# archivo_destino = f\"./{ruta}/{ruta}_join_file.xlsx\" # Reemplaza con la ruta deseada para el nuevo archivo\n",
    "\n",
    "archivo_destino = f\"{route}/{ruta}/{ruta}_join_file.xlsx\" # Reemplaza con la ruta deseada para el nuevo archivo\n",
    "\n",
    "# print(ruta)\n",
    "# print(archivo_destino)\n",
    "combinar_archivos_xlsx(route + ruta, archivo_destino)\n"
   ]
  },
  {
   "cell_type": "code",
   "execution_count": null,
   "metadata": {},
   "outputs": [],
   "source": []
  }
 ],
 "metadata": {
  "kernelspec": {
   "display_name": "base",
   "language": "python",
   "name": "python3"
  },
  "language_info": {
   "codemirror_mode": {
    "name": "ipython",
    "version": 3
   },
   "file_extension": ".py",
   "mimetype": "text/x-python",
   "name": "python",
   "nbconvert_exporter": "python",
   "pygments_lexer": "ipython3",
   "version": "3.8.18"
  }
 },
 "nbformat": 4,
 "nbformat_minor": 2
}
