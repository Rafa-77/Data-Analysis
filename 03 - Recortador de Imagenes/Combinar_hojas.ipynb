{
 "cells": [
  {
   "cell_type": "code",
   "execution_count": 5,
   "metadata": {},
   "outputs": [
    {
     "name": "stdout",
     "output_type": "stream",
     "text": [
      "D:/alex_/Documents/Programacion/Bases de datos/Loteria Nacional/Mayor/mayor3868 - copia/mayor3868 - copia_join_file.xlsx\n",
      "      Unnamed: 0  NUMEROS ·PREMIOS NUMEROS   ·PREMIOS\n",
      "0              0          CENTENAS                NaN\n",
      "1              1  00004 . 3,000.00                NaN\n",
      "2              2   00044 11,200.00                NaN\n",
      "3              3  00078 . 3,000.00                NaN\n",
      "4              4   00144 11,200.00                NaN\n",
      "...          ...               ...                ...\n",
      "1500          86  59744 t 1,200.00                NaN\n",
      "1501          87  59807 . 3,000.00                NaN\n",
      "1502          88  59844 t 1,200.00                NaN\n",
      "1503          89  59849 . 3,000.00                NaN\n",
      "1504          90  59944 t 1,200.00                NaN\n",
      "\n",
      "[1505 rows x 3 columns]\n"
     ]
    }
   ],
   "source": [
    "import pandas as pd\n",
    "\n",
    "def combinar_hojas_excel(ruta_excel):\n",
    "    # Leer todas las hojas del archivo Excel\n",
    "    xls = pd.ExcelFile(ruta_excel)\n",
    "    \n",
    "    # Inicializar un DataFrame vacío para almacenar los datos combinados\n",
    "    datos_combinados = pd.DataFrame()\n",
    "\n",
    "    # Iterar sobre cada hoja y concatenar los datos verticalmente\n",
    "    for nombre_hoja in xls.sheet_names:\n",
    "        datos_hoja = pd.read_excel(xls, nombre_hoja)\n",
    "        datos_combinados = pd.concat([datos_combinados, datos_hoja], ignore_index=True)\n",
    "    print(datos_combinados)\n",
    "    # Escribir los datos combinados en una nueva hoja\n",
    "    with pd.ExcelWriter('hoja_combinada.xlsx', engine='xlsxwriter') as writer:\n",
    "        datos_combinados.to_excel(writer, sheet_name='Hoja_Combinada', index=False)\n",
    "\n",
    "\n",
    "\n",
    "\n",
    "# Ejemplo de uso\n",
    "route = \"D:/alex_/Documents/Programacion/Bases de datos/Loteria Nacional/Mayor/\"\n",
    "carpeta = 'mayor3868 - copia'  # Reemplaza con la ruta de tu carpeta\n",
    "ruta_carpeta = route + carpeta\n",
    "archivo = f\"{carpeta}_join_file.xlsx\"\n",
    "ruta_archivo = f\"{ruta_carpeta}/{archivo}\"\n",
    "print(ruta_archivo)\n",
    "# archivo_destino = f\"./{ruta}/{ruta}_join_file.xlsx\" # Reemplaza con la ruta deseada para el nuevo archivo\n",
    "\n",
    "# Reemplaza 'ruta_del_archivo.xlsx' con la ruta real de tu archivo Excel\n",
    "combinar_hojas_excel(ruta_archivo)"
   ]
  },
  {
   "cell_type": "code",
   "execution_count": 6,
   "metadata": {},
   "outputs": [
    {
     "ename": "IndentationError",
     "evalue": "unexpected unindent (1866038257.py, line 26)",
     "output_type": "error",
     "traceback": [
      "\u001b[1;36m  File \u001b[1;32m\"C:\\Users\\alex_\\AppData\\Local\\Temp\\ipykernel_13148\\1866038257.py\"\u001b[1;36m, line \u001b[1;32m26\u001b[0m\n\u001b[1;33m    combinar_hojas_excel(ruta_archivo)\u001b[0m\n\u001b[1;37m                                      ^\u001b[0m\n\u001b[1;31mIndentationError\u001b[0m\u001b[1;31m:\u001b[0m unexpected unindent\n"
     ]
    }
   ],
   "source": [
    "import pandas as pd\n",
    "from openpyxl import load_workbook\n",
    "\n",
    "def combinar_hojas_excel(ruta_excel):\n",
    "    # Leer todas las hojas del archivo Excel\n",
    "    xls = pd.ExcelFile(ruta_excel)\n",
    "\n",
    "    # Inicializar un DataFrame vacío para almacenar los datos combinados\n",
    "    datos_combinados = pd.DataFrame()\n",
    "\n",
    "    # Iterar sobre cada hoja y concatenar los datos verticalmente\n",
    "    for nombre_hoja in xls.sheet_names:\n",
    "        datos_hoja = pd.read_excel(xls, nombre_hoja)\n",
    "        datos_combinados = pd.concat([datos_combinados, datos_hoja], ignore_index=True)\n",
    "\n",
    "    # Cargar el libro de trabajo existente\n",
    "    libro_existente = load_workbook(ruta_excel)\n",
    "\n",
    "    # Crear una nueva hoja en el libro de trabajo existente\n",
    "    with pd.ExcelWriter(ruta_excel, engine='openpyxl') as writer:\n",
    "        writer.book = libro_existente\n",
    "        datos_combinados.to_excel(writer, sheet_name='Hoja_Combinada', index=False)\n",
    "\n",
    "# Reemplaza 'ruta_del_archivo.xlsx' con la ruta real de tu archivo Excel\n",
    "combinar_hojas_excel(ruta_archivo)\n"
   ]
  },
  {
   "cell_type": "code",
   "execution_count": null,
   "metadata": {},
   "outputs": [],
   "source": []
  }
 ],
 "metadata": {
  "kernelspec": {
   "display_name": "base",
   "language": "python",
   "name": "python3"
  },
  "language_info": {
   "codemirror_mode": {
    "name": "ipython",
    "version": 3
   },
   "file_extension": ".py",
   "mimetype": "text/x-python",
   "name": "python",
   "nbconvert_exporter": "python",
   "pygments_lexer": "ipython3",
   "version": "3.8.18"
  }
 },
 "nbformat": 4,
 "nbformat_minor": 2
}
