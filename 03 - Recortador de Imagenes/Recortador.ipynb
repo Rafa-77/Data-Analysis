{
 "cells": [
  {
   "cell_type": "code",
   "execution_count": 9,
   "metadata": {},
   "outputs": [],
   "source": [
    "from PIL import Image\n",
    "\n",
    "ruta = \"mayor3868\"\n",
    "img = Image.open(ruta + \"_page-0001.jpg\")\n",
    "\n",
    "# Documentacion: https://remolinator.com/analisis-de-imagenes-utilizando-python-y-la-libreria-pillow/\n",
    "# https://online2pdf.com/es/convertir-jpg-a-excel\n",
    "# https://www.ilovepdf.com/es/pdf_a_jpg"
   ]
  },
  {
   "cell_type": "code",
   "execution_count": 38,
   "metadata": {},
   "outputs": [
    {
     "name": "stdout",
     "output_type": "stream",
     "text": [
      "(3189, 5079)\n"
     ]
    }
   ],
   "source": [
    "print(img.size)  # Imprime el tamaño de la imagen en píxeles\n",
    "coordenada_y1 = 385\n",
    "coordenada_y2 = 3990\n",
    "distancia_entre_x = 185 "
   ]
  },
  {
   "cell_type": "code",
   "execution_count": 62,
   "metadata": {},
   "outputs": [],
   "source": [
    "coordenada_x1 = 0\n",
    "coordenada_x2 = coordenada_x1 + distancia_entre_x\n",
    "\n",
    "area_01 = (coordenada_x1, coordenada_y1, coordenada_x2, coordenada_y2)  # Área que queremos recortar (x1, y1, x2, y2)\n",
    "img_cropped_01 = img.crop(area_01)  # Recorta la imagen en el área especificada\n",
    "img_cropped_01.save(\"./\" + ruta + \"/img_cropped_01.jpg\") # Guardar imagenes\n",
    "\n",
    "######################################\n",
    "\n",
    "coordenada_x1 = coordenada_x2 - 8\n",
    "coordenada_x2 = coordenada_x1 + distancia_entre_x\n",
    "\n",
    "area_02 = (coordenada_x1, coordenada_y1, coordenada_x2, coordenada_y2)  # Área que queremos recortar (x1, y1, x2, y2)\n",
    "img_cropped_02 = img.crop(area_02)  # Recorta la imagen en el área especificada\n",
    "img_cropped_02.save(\"./\" + ruta + \"/img_cropped_02.jpg\") # Guardar imagenes\n",
    "\n",
    "######################################\n",
    "\n",
    "coordenada_x1 = coordenada_x2 + 3\n",
    "coordenada_x2 = coordenada_x1 + distancia_entre_x\n",
    "\n",
    "area_03 = (coordenada_x1, coordenada_y1, coordenada_x2, coordenada_y2)  # Área que queremos recortar (x1, y1, x2, y2)\n",
    "img_cropped_03 = img.crop(area_03)  # Recorta la imagen en el área especificada\n",
    "img_cropped_03.save(\"./\" + ruta + \"/img_cropped_03.jpg\") # Guardar imagenes\n",
    "\n",
    "######################################\n",
    "coordenada_x1 = coordenada_x2 + 3\n",
    "coordenada_x2 = coordenada_x1 + distancia_entre_x\n",
    "\n",
    "area_04 = (coordenada_x1, coordenada_y1, coordenada_x2, coordenada_y2)  # Área que queremos recortar (x1, y1, x2, y2)\n",
    "img_cropped_04 = img.crop(area_04)  # Recorta la imagen en el área especificada\n",
    "img_cropped_04.save(\"./\" + ruta + \"/img_cropped_04.jpg\") # Guardar imagenes\n",
    "\n",
    "######################################\n",
    "coordenada_x1 = coordenada_x2 + 3\n",
    "coordenada_x2 = coordenada_x1 + distancia_entre_x\n",
    "\n",
    "area_05 = (coordenada_x1, coordenada_y1, coordenada_x2, coordenada_y2)  # Área que queremos recortar (x1, y1, x2, y2)\n",
    "img_cropped_05 = img.crop(area_05)  # Recorta la imagen en el área especificada\n",
    "img_cropped_05.save(\"./\" + ruta + \"/img_cropped_05.jpg\") # Guardar imagenes\n",
    "\n",
    "######################################\n",
    "coordenada_x1 = coordenada_x2 + 3\n",
    "coordenada_x2 = coordenada_x1 + distancia_entre_x\n",
    "\n",
    "area_06 = (coordenada_x1, coordenada_y1, coordenada_x2, coordenada_y2)  # Área que queremos recortar (x1, y1, x2, y2)\n",
    "img_cropped_06 = img.crop(area_06)  # Recorta la imagen en el área especificada\n",
    "img_cropped_06.save(\"./\" + ruta + \"/img_cropped_06.jpg\") # Guardar imagenes\n"
   ]
  },
  {
   "cell_type": "code",
   "execution_count": 12,
   "metadata": {},
   "outputs": [
    {
     "name": "stdout",
     "output_type": "stream",
     "text": [
      "(3189, 5079)\n"
     ]
    }
   ],
   "source": [
    "# RECORTADOR DE IMAGENES -CASO ESPECIFICO-.\n",
    "from PIL import Image\n",
    "\n",
    "ruta = \"mayor3907\"\n",
    "img = Image.open(ruta + \"_page-0001.jpg\")\n",
    "\n",
    "# Documentacion: https://remolinator.com/analisis-de-imagenes-utilizando-python-y-la-libreria-pillow/\n",
    "# JPG a Excel: https://online2pdf.com/es/convertir-jpg-a-excel#\n",
    "\n",
    "print(img.size)  # Imprime el tamaño de la imagen en píxeles\n",
    "\n",
    "coordenada_y1 = 385\n",
    "coordenada_y2 = 3990\n",
    "distancia_entre_x = 185\n",
    "\n",
    "num_imagenes = 17\n",
    "\n",
    "for i in range(1, num_imagenes + 1):\n",
    "    coordenada_x1 = 0 if i == 1 else (coordenada_x2 - 8) if i == 2 else coordenada_x2 + 3.5\n",
    "    coordenada_x2 = coordenada_x1 + distancia_entre_x\n",
    "\n",
    "    area = (coordenada_x1, coordenada_y1, coordenada_x2, coordenada_y2)\n",
    "    img_cropped = img.crop(area)\n",
    "    img_cropped.save(f\"./{ruta}/\" + ruta + f\"_cropped_{i:02d}.jpg\")\n"
   ]
  },
  {
   "cell_type": "code",
   "execution_count": null,
   "metadata": {},
   "outputs": [],
   "source": []
  }
 ],
 "metadata": {
  "kernelspec": {
   "display_name": "base",
   "language": "python",
   "name": "python3"
  },
  "language_info": {
   "codemirror_mode": {
    "name": "ipython",
    "version": 3
   },
   "file_extension": ".py",
   "mimetype": "text/x-python",
   "name": "python",
   "nbconvert_exporter": "python",
   "pygments_lexer": "ipython3",
   "version": "3.8.18"
  }
 },
 "nbformat": 4,
 "nbformat_minor": 2
}
