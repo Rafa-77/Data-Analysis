{
 "cells": [
  {
   "cell_type": "code",
   "execution_count": 11,
   "metadata": {},
   "outputs": [
    {
     "name": "stdout",
     "output_type": "stream",
     "text": [
      "(3189, 5079)\n"
     ]
    }
   ],
   "source": [
    "# RECORTADOR DE IMAGENES -CASO ESPECIFICO-.\n",
    "from PIL import Image\n",
    "\n",
    "# Documentacion: https://remolinator.com/analisis-de-imagenes-utilizando-python-y-la-libreria-pillow/\n",
    "# https://online2pdf.com/es/convertir-jpg-a-excel\n",
    "# https://www.ilovepdf.com/es/pdf_a_jpg\n",
    "\n",
    "ruta = \"mayor3915\"\n",
    "img = Image.open(ruta + \"/\" + ruta + \"_page-0001.jpg\")\n",
    "\n",
    "# Documentacion: https://remolinator.com/analisis-de-imagenes-utilizando-python-y-la-libreria-pillow/\n",
    "# JPG a Excel: https://online2pdf.com/es/convertir-jpg-a-excel#\n",
    "\n",
    "print(img.size)  # Imprime el tamaño de la imagen en píxeles\n",
    "\n",
    "coordenada_y1 = 385\n",
    "coordenada_y2 = 3990\n",
    "distancia_entre_x = 185\n",
    "\n",
    "num_imagenes = 17\n",
    "\n",
    "for i in range(1, num_imagenes + 1):\n",
    "    coordenada_x1 = 0 if i == 1 else (coordenada_x2 - 8) if i == 2 else coordenada_x2 + 3.5\n",
    "    coordenada_x2 = coordenada_x1 + distancia_entre_x\n",
    "\n",
    "    area = (coordenada_x1, coordenada_y1, coordenada_x2, coordenada_y2)\n",
    "    img_cropped = img.crop(area)\n",
    "    img_cropped.save(f\"./{ruta}/\" + ruta + f\"_cropped_{i:02d}.jpg\")\n"
   ]
  },
  {
   "cell_type": "code",
   "execution_count": null,
   "metadata": {},
   "outputs": [],
   "source": []
  }
 ],
 "metadata": {
  "kernelspec": {
   "display_name": "base",
   "language": "python",
   "name": "python3"
  },
  "language_info": {
   "codemirror_mode": {
    "name": "ipython",
    "version": 3
   },
   "file_extension": ".py",
   "mimetype": "text/x-python",
   "name": "python",
   "nbconvert_exporter": "python",
   "pygments_lexer": "ipython3",
   "version": "3.8.18"
  }
 },
 "nbformat": 4,
 "nbformat_minor": 2
}
